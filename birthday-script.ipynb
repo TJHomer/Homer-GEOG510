{
 "cells": [
  {
   "cell_type": "markdown",
   "id": "561463f4",
   "metadata": {},
   "source": [
    "# Birthday Bot\n",
    "\n",
    "This script will send your firend a birthday message on Mattermost every time a new timezone experiences their birthday."
   ]
  },
  {
   "cell_type": "markdown",
   "id": "d667411c",
   "metadata": {},
   "source": [
    "Uncomment to install the timezone package"
   ]
  },
  {
   "cell_type": "code",
   "execution_count": null,
   "id": "c375b330",
   "metadata": {},
   "outputs": [],
   "source": [
    "#pip install pytz"
   ]
  },
  {
   "cell_type": "code",
   "execution_count": null,
   "id": "ee058913",
   "metadata": {},
   "outputs": [],
   "source": [
    "import requests\n",
    "import datetime\n",
    "from datetime import datetime\n",
    "import pytz\n",
    "from pytz import common_timezones\n",
    "\n",
    "timezones = pytz.common_timezones \n"
   ]
  },
  {
   "cell_type": "markdown",
   "id": "c3275dcb",
   "metadata": {},
   "source": [
    "Add your Mattermost instance information."
   ]
  },
  {
   "cell_type": "code",
   "execution_count": null,
   "id": "f5221e07",
   "metadata": {},
   "outputs": [],
   "source": [
    "url = #Add your mattermost webhook here\n",
    "channel = #Add what channel to post in\n",
    "username = #Add your username"
   ]
  },
  {
   "cell_type": "markdown",
   "id": "d83fd03c",
   "metadata": {},
   "source": [
    "Add your friend's birthday information"
   ]
  },
  {
   "cell_type": "code",
   "execution_count": null,
   "id": "65074358",
   "metadata": {},
   "outputs": [],
   "source": [
    "month = #Add the month (in number form)\n",
    "day = #Add the day "
   ]
  },
  {
   "cell_type": "markdown",
   "id": "89c5e51a",
   "metadata": {},
   "source": [
    "Run the script. For best results, set it up to auto-run every 15 mintues (there are some timezones that do not change on the hour)."
   ]
  },
  {
   "cell_type": "code",
   "execution_count": null,
   "id": "039b540a",
   "metadata": {},
   "outputs": [],
   "source": [
    "for zone in timezones:\n",
    "        current_time = datetime.now(pytz.timezone(zone))\n",
    "        if current_time.month == month and current_time.day == day:\n",
    "                if current_time.hour == 0 and current_time.minute == 0:\n",
    "                        city = zone.split(\"/\")\n",
    "                        txt = (\"It is your birthday in \" + city[-1] + \"!\")\n",
    "\n",
    "                        data = { \n",
    "                        \"channel\": channel,\n",
    "                        \"username\": username,\n",
    "                        \"text\": txt,\n",
    "                        }    \n",
    "                        r = requests.post(url, json=data)\n",
    "                        print(data)\n",
    "                        print(\"success\")"
   ]
  }
 ],
 "metadata": {
  "kernelspec": {
   "display_name": "Python 3 (ipykernel)",
   "language": "python",
   "name": "python3"
  },
  "language_info": {
   "codemirror_mode": {
    "name": "ipython",
    "version": 3
   },
   "file_extension": ".py",
   "mimetype": "text/x-python",
   "name": "python",
   "nbconvert_exporter": "python",
   "pygments_lexer": "ipython3",
   "version": "3.10.9"
  }
 },
 "nbformat": 4,
 "nbformat_minor": 5
}
